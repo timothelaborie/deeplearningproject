{
 "cells": [
  {
   "cell_type": "code",
   "execution_count": 3,
   "metadata": {},
   "outputs": [
    {
     "name": "stdout",
     "output_type": "stream",
     "text": [
      "torch.Size([60000, 28, 28])\n",
      "torch.Size([60000, 10])\n"
     ]
    }
   ],
   "source": [
    "from __future__ import print_function\n",
    "import argparse\n",
    "import torch\n",
    "import torch.nn as nn\n",
    "import torch.nn.functional as F\n",
    "import torch.optim as optim\n",
    "from torchvision import datasets, transforms\n",
    "from torch.optim.lr_scheduler import StepLR\n",
    "from torch.utils.data import Dataset, DataLoader\n",
    "from torch.autograd import Variable\n",
    "from torchvision.utils import save_image\n",
    "\n",
    "import matplotlib.pyplot as plt\n",
    "import matplotlib.image as mpimg\n",
    "\n",
    "import numpy as np\n",
    "\n",
    "import tqdm\n",
    "\n",
    "\n",
    "dataset = datasets.MNIST('../data', train=True, download=True)\n",
    "data = dataset.data\n",
    "labels = dataset.targets\n",
    "#convert labels to one-hot\n",
    "one_hot_labels = torch.zeros(len(labels), 10)\n",
    "one_hot_labels[torch.arange(len(labels)), labels] = 1\n",
    "\n",
    "print(data.shape)\n",
    "print(one_hot_labels.shape)\n",
    "\n",
    "np.save(\"./datasets/mnist_orig.npy\", data.numpy())\n",
    "np.save(\"./datasets/mnist_orig_labels.npy\", one_hot_labels.numpy())"
   ]
  },
  {
   "cell_type": "code",
   "execution_count": null,
   "metadata": {},
   "outputs": [],
   "source": [
    "#generate new training data\n",
    "generated_images = []\n",
    "generated_labels = []\n",
    "for i in range(0,100):\n",
    "    #select 2 images at random\n",
    "    idx1 = np.random.randint(0,data.shape[0])\n",
    "    image1 = data[idx1]\n",
    "    label1 = one_hot_labels[idx1]\n",
    "    idx2 = np.random.randint(0,data.shape[0])\n",
    "    image2 = data[idx2]\n",
    "    label2 = one_hot_labels[idx2]\n",
    "\n",
    "    #interpolate between the two images\n",
    "    torch.lerp(image1, image2, 0.5)\n",
    "\n",
    "    #interpolate between the two labels\n",
    "    label = torch.lerp(label1, label2, 0.5)\n",
    "\n",
    "generated_images = np.array(generated_images)\n",
    "generated_labels = np.array(generated_labels)\n",
    "print(generated_images.shape)\n",
    "print(generated_labels.shape)\n",
    "#save the generated images and labels\n",
    "np.save(\"./datasets/mixup.npy\", generated_images)\n",
    "np.save(\"./datasets/mixup_labels.npy\", generated_labels)"
   ]
  }
 ],
 "metadata": {
  "kernelspec": {
   "display_name": "Python 3.9.7 ('base')",
   "language": "python",
   "name": "python3"
  },
  "language_info": {
   "codemirror_mode": {
    "name": "ipython",
    "version": 3
   },
   "file_extension": ".py",
   "mimetype": "text/x-python",
   "name": "python",
   "nbconvert_exporter": "python",
   "pygments_lexer": "ipython3",
   "version": "3.9.7"
  },
  "orig_nbformat": 4,
  "vscode": {
   "interpreter": {
    "hash": "ad2bdc8ecc057115af97d19610ffacc2b4e99fae6737bb82f5d7fb13d2f2c186"
   }
  }
 },
 "nbformat": 4,
 "nbformat_minor": 2
}
